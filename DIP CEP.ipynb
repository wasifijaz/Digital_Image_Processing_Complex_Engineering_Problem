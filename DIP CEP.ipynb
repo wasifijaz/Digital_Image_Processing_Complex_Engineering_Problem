{
 "cells": [
  {
   "cell_type": "code",
   "execution_count": null,
   "id": "44803424",
   "metadata": {},
   "outputs": [],
   "source": [
    "import cv2 as cv\n",
    "import numpy as np\n",
    "import matplotlib.pyplot as plt\n",
    "import matplotlib.image as mpimg\n",
    "import math\n",
    "import os\n",
    "from moviepy.editor import VideoFileClip\n",
    "from IPython import display\n",
    "\n",
    "%matplotlib inline"
   ]
  },
  {
   "cell_type": "code",
   "execution_count": null,
   "id": "379964f2",
   "metadata": {},
   "outputs": [],
   "source": [
    "def grayscale(img):\n",
    "    return cv.cvtColor(img, cv.COLOR_BGR2GRAY)"
   ]
  },
  {
   "cell_type": "code",
   "execution_count": null,
   "id": "c933cfa2",
   "metadata": {},
   "outputs": [],
   "source": [
    "def canny(img, low_threshold, high_threshold):\n",
    "    return cv.Canny(img, low_threshold, high_threshold)"
   ]
  },
  {
   "cell_type": "code",
   "execution_count": null,
   "id": "fa58a7c2",
   "metadata": {},
   "outputs": [],
   "source": [
    "def gaussian_blur(img, kernel_size):\n",
    "    return cv.GaussianBlur(img, (kernel_size, kernel_size), 0)"
   ]
  },
  {
   "cell_type": "code",
   "execution_count": null,
   "id": "58af70b0",
   "metadata": {},
   "outputs": [],
   "source": [
    "def region_of_interest(img, vertices):\n",
    "    mask = np.zeros_like(img)   \n",
    "    if len(img.shape) > 2:\n",
    "        channel_count = img.shape[2]\n",
    "        ignore_mask_color = (255,) * channel_count\n",
    "    else:\n",
    "        ignore_mask_color = 255\n",
    "        \n",
    "    cv.fillPoly(mask, vertices, ignore_mask_color)\n",
    "    masked_image = cv.bitwise_and(img, mask)\n",
    "    \n",
    "    return masked_image"
   ]
  },
  {
   "cell_type": "code",
   "execution_count": null,
   "id": "8cffc665",
   "metadata": {},
   "outputs": [],
   "source": [
    "def draw_lines(img, lines, color=[255, 0, 0], thickness=10):\n",
    "    draw_right = True\n",
    "    draw_left = True\n",
    "    \n",
    "    slope_threshold = 0.5\n",
    "    slopes = []\n",
    "    new_lines = []\n",
    "    for line in lines:\n",
    "        x1, y1, x2, y2 = line[0]\n",
    "        \n",
    "        if x2 - x1 == 0.: \n",
    "            slope = 999.\n",
    "        else:\n",
    "            slope = (y2 - y1) / (x2 - x1)\n",
    "            \n",
    "        if abs(slope) > slope_threshold:\n",
    "            slopes.append(slope)\n",
    "            new_lines.append(line)\n",
    "        \n",
    "    lines = new_lines\n",
    "    \n",
    "    right_lines = []\n",
    "    left_lines = []\n",
    "    for i, line in enumerate(lines):\n",
    "        x1, y1, x2, y2 = line[0]\n",
    "        img_x_center = img.shape[1] / 2\n",
    "        if slopes[i] > 0 and x1 > img_x_center and x2 > img_x_center:\n",
    "            right_lines.append(line)\n",
    "        elif slopes[i] < 0 and x1 < img_x_center and x2 < img_x_center:\n",
    "            left_lines.append(line)\n",
    "            \n",
    "    right_lines_x = []\n",
    "    right_lines_y = []\n",
    "    \n",
    "    for line in right_lines:\n",
    "        x1, y1, x2, y2 = line[0]\n",
    "        \n",
    "        right_lines_x.append(x1)\n",
    "        right_lines_x.append(x2)\n",
    "        \n",
    "        right_lines_y.append(y1)\n",
    "        right_lines_y.append(y2)\n",
    "        \n",
    "    if len(right_lines_x) > 0:\n",
    "        right_m, right_b = np.polyfit(right_lines_x, right_lines_y, 1)\n",
    "    else:\n",
    "        right_m, right_b = 1, 1\n",
    "        draw_right = False\n",
    "        \n",
    "    left_lines_x = []\n",
    "    left_lines_y = []\n",
    "    \n",
    "    for line in left_lines:\n",
    "        x1, y1, x2, y2 = line[0]\n",
    "        \n",
    "        left_lines_x.append(x1)\n",
    "        left_lines_x.append(x2)\n",
    "        \n",
    "        left_lines_y.append(y1)\n",
    "        left_lines_y.append(y2)\n",
    "        \n",
    "    if len(left_lines_x) > 0:\n",
    "        left_m, left_b = np.polyfit(left_lines_x, left_lines_y, 1)\n",
    "    else:\n",
    "        left_m, left_b = 1, 1\n",
    "        draw_left = False\n",
    "    \n",
    "    y1 = img.shape[0]\n",
    "    y2 = img.shape[0] * (1 - trap_height)\n",
    "    \n",
    "    right_x1 = (y1 - right_b) / right_m\n",
    "    right_x2 = (y2 - right_b) / right_m\n",
    "    \n",
    "    left_x1 = (y1 - left_b) / left_m\n",
    "    left_x2 = (y2 - left_b) / left_m\n",
    "    \n",
    "    y1 = int(y1)\n",
    "    y2 = int(y2)\n",
    "    right_x1 = int(right_x1)\n",
    "    right_x2 = int(right_x2)\n",
    "    left_x1 = int(left_x1)\n",
    "    left_x2 = int(left_x2)\n",
    "    \n",
    "    if draw_right:\n",
    "        cv.line(img, (right_x1, y1), (right_x2, y2), color, thickness)\n",
    "    if draw_left:\n",
    "        cv.line(img, (left_x1, y1), (left_x2, y2), color, thickness)"
   ]
  },
  {
   "cell_type": "code",
   "execution_count": null,
   "id": "743a42d4",
   "metadata": {},
   "outputs": [],
   "source": [
    "def hough_lines(img, rho, theta, threshold, min_line_len, max_line_gap):\n",
    "    lines = cv.HoughLinesP(img, rho, theta, threshold, np.array([]), minLineLength=min_line_len, maxLineGap=max_line_gap)\n",
    "    line_img = np.zeros((*img.shape, 3), dtype=np.uint8)\n",
    "    draw_lines(line_img, lines)\n",
    "   \n",
    "    return line_img"
   ]
  },
  {
   "cell_type": "code",
   "execution_count": null,
   "id": "2d2186e7",
   "metadata": {},
   "outputs": [],
   "source": [
    "def weighted_img(img, initial_img, α=0.8, β=1., λ=0.):\n",
    "    return cv.addWeighted(initial_img, α, img, β, λ)"
   ]
  },
  {
   "cell_type": "code",
   "execution_count": null,
   "id": "8f7e16fd",
   "metadata": {},
   "outputs": [],
   "source": [
    "def filter_colors(image):\n",
    "    white_threshold = 200\n",
    "    lower_white = np.array([white_threshold, white_threshold, white_threshold])\n",
    "    upper_white = np.array([255, 255, 255])\n",
    "    white_mask = cv.inRange(image, lower_white, upper_white)\n",
    "    white_image = cv.bitwise_and(image, image, mask=white_mask)\n",
    "\n",
    "    hsv = cv.cvtColor(image, cv.COLOR_BGR2HSV)\n",
    "    lower_yellow = np.array([90,100,100])\n",
    "    upper_yellow = np.array([110,255,255])\n",
    "    yellow_mask = cv.inRange(hsv, lower_yellow, upper_yellow)\n",
    "    yellow_image = cv.bitwise_and(image, image, mask=yellow_mask)\n",
    "\n",
    "    image2 = cv.addWeighted(white_image, 1., yellow_image, 1., 0.)\n",
    "\n",
    "    return image2"
   ]
  },
  {
   "cell_type": "code",
   "execution_count": null,
   "id": "ee93a91d",
   "metadata": {},
   "outputs": [],
   "source": [
    "kernel_size = 3\n",
    "\n",
    "low_threshold = 50\n",
    "high_threshold = 150\n",
    "\n",
    "trap_bottom_width = 0.85\n",
    "trap_top_width = 0.07\n",
    "trap_height = 0.4\n",
    "\n",
    "rho = 2\n",
    "theta = 1 * np.pi/180\n",
    "threshold = 15\n",
    "min_line_length = 10\n",
    "max_line_gap = 20"
   ]
  },
  {
   "cell_type": "code",
   "execution_count": null,
   "id": "a7ff13cb",
   "metadata": {},
   "outputs": [],
   "source": [
    "def annotate_image(image_in):\n",
    "    image = filter_colors(image_in)\n",
    "    \n",
    "    gray = grayscale(image)\n",
    "\n",
    "    blur_gray = gaussian_blur(gray, kernel_size)\n",
    "\n",
    "    edges = canny(blur_gray, low_threshold, high_threshold)\n",
    "\n",
    "    imshape = image.shape\n",
    "    vertices = np.array([[\\\n",
    "        ((imshape[1] * (1 - trap_bottom_width)) // 2, imshape[0]),\\\n",
    "        ((imshape[1] * (1 - trap_top_width)) // 2, imshape[0] - imshape[0] * trap_height),\\\n",
    "        (imshape[1] - (imshape[1] * (1 - trap_top_width)) // 2, imshape[0] - imshape[0] * trap_height),\\\n",
    "        (imshape[1] - (imshape[1] * (1 - trap_bottom_width)) // 2, imshape[0])]]\\\n",
    "        , dtype=np.int32)\n",
    "    masked_edges = region_of_interest(edges, vertices)\n",
    "\n",
    "    line_image = hough_lines(masked_edges, rho, theta, threshold, min_line_length, max_line_gap)\n",
    "    \n",
    "    initial_image = image_in.astype('uint8')\n",
    "    annotated_image = weighted_img(line_image, initial_image)\n",
    "    \n",
    "    return annotated_image"
   ]
  },
  {
   "cell_type": "code",
   "execution_count": null,
   "id": "31fe625e",
   "metadata": {},
   "outputs": [],
   "source": [
    "test_images = os.listdir('test_images/')\n",
    "\n",
    "for image in test_images:\n",
    "    annotated_image = annotate_image(mpimg.imread((os.path.join('test_images', image))))\n",
    "    fname = image.split('.')[0] + '_annotated.jpg'\n",
    "    plt.imsave(os.path.join('output_images', fname), annotated_image)"
   ]
  },
  {
   "cell_type": "code",
   "execution_count": null,
   "id": "d7b73c5f",
   "metadata": {},
   "outputs": [],
   "source": [
    "output_images = os.listdir('output_images/')\n",
    "for image in output_images:\n",
    "    fname = ('output_images/'+image)\n",
    "    print('\\n\\n************* '+image+' *************\\n\\n')\n",
    "    img = mpimg.imread(fname)\n",
    "    imgplot = plt.imshow(img)\n",
    "    plt.show()\n"
   ]
  },
  {
   "cell_type": "code",
   "execution_count": null,
   "id": "054dfaae",
   "metadata": {},
   "outputs": [],
   "source": [
    "def process_image(image):\n",
    "    result = annotate_image(image)\n",
    "\n",
    "    return result"
   ]
  },
  {
   "cell_type": "code",
   "execution_count": null,
   "id": "2f551589",
   "metadata": {},
   "outputs": [],
   "source": [
    "test_videos = os.listdir('test_videos/')\n",
    "\n",
    "for video in test_videos:\n",
    "    fname = 'output_videos/' + video.split('.')[0] + '_output.mp4'\n",
    "    clip = VideoFileClip('test_videos/'+video)\n",
    "    output_video = clip.fl_image(process_image)\n",
    "    %time output_video.write_videofile(fname, audio=False)"
   ]
  },
  {
   "cell_type": "code",
   "execution_count": null,
   "id": "9f9d7064",
   "metadata": {},
   "outputs": [],
   "source": [
    "output_videos = os.listdir('output_videos/')\n",
    "for video in output_videos:\n",
    "    videoVid = ('output_videos/'+video)\n",
    "    print('\\n\\n******************************************** '+video+' ********************************************\\n\\n')\n",
    "    display.display(display.Video(videoVid, embed=True))"
   ]
  },
  {
   "cell_type": "code",
   "execution_count": null,
   "id": "0453ca65",
   "metadata": {},
   "outputs": [],
   "source": []
  }
 ],
 "metadata": {
  "kernelspec": {
   "display_name": "Python 3",
   "language": "python",
   "name": "python3"
  },
  "language_info": {
   "codemirror_mode": {
    "name": "ipython",
    "version": 3
   },
   "file_extension": ".py",
   "mimetype": "text/x-python",
   "name": "python",
   "nbconvert_exporter": "python",
   "pygments_lexer": "ipython3",
   "version": "3.8.8"
  }
 },
 "nbformat": 4,
 "nbformat_minor": 5
}
